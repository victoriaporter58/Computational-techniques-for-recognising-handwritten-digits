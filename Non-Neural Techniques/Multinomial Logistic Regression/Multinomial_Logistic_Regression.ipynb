{
  "nbformat": 4,
  "nbformat_minor": 0,
  "metadata": {
    "colab": {
      "name": "Multinomial_Logistic_Regression.ipynb",
      "provenance": [],
      "collapsed_sections": [],
      "include_colab_link": true
    },
    "kernelspec": {
      "name": "python3",
      "display_name": "Python 3"
    },
    "accelerator": "GPU"
  },
  "cells": [
    {
      "cell_type": "markdown",
      "metadata": {
        "id": "view-in-github",
        "colab_type": "text"
      },
      "source": [
        "<a href=\"https://colab.research.google.com/github/victoriaporter58/Computational-techniques-for-recognising-handwritten-digits/blob/master/Multinomial_Logistic_Regression.ipynb\" target=\"_parent\"><img src=\"https://colab.research.google.com/assets/colab-badge.svg\" alt=\"Open In Colab\"/></a>"
      ]
    },
    {
      "cell_type": "markdown",
      "metadata": {
        "id": "O6etsXZLehni"
      },
      "source": [
        "# Multinomial Logistic Regression\n",
        "This is looking at which hyperparemeters produce higher accuracices and their effect on things such as training time and testing time\n",
        "Hyperparameters for multinominal logistic regression are things such as:\n",
        "*  Which algorithm to use in the optimization problem\n",
        "*  The regularization strength\n",
        "*  The tolerance for stopping criterea\n",
        "*  Which type of penalty to use\n"
      ]
    },
    {
      "cell_type": "markdown",
      "metadata": {
        "id": "0nxw-ywEeZdz"
      },
      "source": [
        "# Downgrade tensorflow\n",
        "This allows us to import and read the MNIST dataset using tensorflow."
      ]
    },
    {
      "cell_type": "code",
      "metadata": {
        "id": "2Ha7EsyyEaT3"
      },
      "source": [
        "pip install tensorflow==1.14"
      ],
      "execution_count": null,
      "outputs": []
    },
    {
      "cell_type": "markdown",
      "metadata": {
        "id": "sYpzUTFidXq5"
      },
      "source": [
        "# Import the requirements"
      ]
    },
    {
      "cell_type": "code",
      "metadata": {
        "id": "cA_5F8v9bzXq"
      },
      "source": [
        "import numpy as np\n",
        "import matplotlib.pyplot as plt\n",
        "import matplotlib.pyplot as mpimg\n",
        "from sklearn.metrics import accuracy_score\n",
        "from sklearn.metrics import classification_report\n",
        "from sklearn.metrics import confusion_matrix\n",
        "from sklearn.linear_model import LogisticRegression"
      ],
      "execution_count": null,
      "outputs": []
    },
    {
      "cell_type": "markdown",
      "metadata": {
        "id": "zWGvUy9fjc-9"
      },
      "source": [
        "# Read the MNIST dataset"
      ]
    },
    {
      "cell_type": "code",
      "metadata": {
        "id": "GswqpTubkeHx"
      },
      "source": [
        "# import and read the MNIST dataset\n",
        "from tensorflow.examples.tutorials.mnist import input_data\n",
        "mnist = input_data.read_data_sets('MNIST_data')\n",
        "\n",
        "# set-up dataset as numpy array\n",
        "# seperate the dataset into training (60,000) images & labels and testing (10,000) images & labels\n",
        "train_images = np.asarray(mnist.train.images)\n",
        "train_labels = np.asarray(mnist.train.labels)\n",
        "test_images = np.asarray(mnist.test.images)\n",
        "test_labels = np.asarray(mnist.test.labels)"
      ],
      "execution_count": null,
      "outputs": []
    },
    {
      "cell_type": "markdown",
      "metadata": {
        "id": "mlIxteqrj2Kf"
      },
      "source": [
        "# Train"
      ]
    },
    {
      "cell_type": "code",
      "metadata": {
        "id": "gTvjcFinj-Hu",
        "outputId": "3496a6d3-2451-483d-e50d-c9466e7cc825",
        "colab": {
          "base_uri": "https://localhost:8080/",
          "height": 119
        }
      },
      "source": [
        "clf = LogisticRegression(\n",
        "    multi_class = 'multinomial',\n",
        "    solver = 'newton-cg',\n",
        "    penalty = 'l2',\n",
        "    tol = 1e-4,\n",
        "    C = 0.5,\n",
        ")\n",
        "\n",
        "# Train on the entire dataset\n",
        "print('Train model clf', )\n",
        "clf.fit(train_images,train_labels)\n",
        "print('Training complete')"
      ],
      "execution_count": null,
      "outputs": [
        {
          "output_type": "stream",
          "text": [
            "Train model clf\n",
            "Training complete\n"
          ],
          "name": "stdout"
        },
        {
          "output_type": "stream",
          "text": [
            "/usr/local/lib/python3.6/dist-packages/scipy/optimize/linesearch.py:314: LineSearchWarning: The line search algorithm did not converge\n",
            "  warn('The line search algorithm did not converge', LineSearchWarning)\n",
            "/usr/local/lib/python3.6/dist-packages/sklearn/utils/optimize.py:204: UserWarning: Line Search failed\n",
            "  warnings.warn('Line Search failed')\n"
          ],
          "name": "stderr"
        }
      ]
    },
    {
      "cell_type": "markdown",
      "metadata": {
        "id": "SB9BIhF3j-Z9"
      },
      "source": [
        "# Predict"
      ]
    },
    {
      "cell_type": "code",
      "metadata": {
        "id": "PK31eZuMkH-5",
        "outputId": "fde9ba54-2464-4f67-c790-9617f21df485",
        "colab": {
          "base_uri": "https://localhost:8080/",
          "height": 255
        }
      },
      "source": [
        "# Test on 10000 images:\n",
        "test_x = test_images[:10000]\n",
        "expected = test_labels[:10000].tolist()\n",
        "\n",
        "print(\"Compute predictions\")\n",
        "predicted = clf.predict(test_x)\n",
        "\n",
        "print(\"Accuracy: \", accuracy_score(expected, predicted))\n",
        "\n",
        "# see how the model performed on each digit\n",
        "print(\"Classification Report: \")\n",
        "classification_report(expected, predicted)\n",
        "print(\"Confusion Matrix: \")\n",
        "confusion_matrix(expected, predicted)"
      ],
      "execution_count": null,
      "outputs": [
        {
          "output_type": "stream",
          "text": [
            "Compute predictions\n",
            "Accuracy:  0.9279\n",
            "Classification Report: \n",
            "Confusion Matrix: \n"
          ],
          "name": "stdout"
        },
        {
          "output_type": "execute_result",
          "data": {
            "text/plain": [
              "array([[ 961,    0,    1,    3,    0,    7,    4,    3,    1,    0],\n",
              "       [   0, 1114,    3,    1,    0,    1,    3,    2,   11,    0],\n",
              "       [   5,    8,  932,   12,    9,    3,   15,    9,   36,    3],\n",
              "       [   4,    1,   17,  922,    0,   25,    3,   10,   21,    7],\n",
              "       [   1,    3,    6,    3,  919,    0,    9,    4,    6,   31],\n",
              "       [   9,    2,    2,   37,    9,  775,   15,    8,   31,    4],\n",
              "       [   8,    3,    5,    3,    6,   15,  915,    2,    1,    0],\n",
              "       [   1,    8,   20,    8,    6,    1,    0,  953,    3,   28],\n",
              "       [   9,   11,    6,   21,    8,   26,   12,    8,  863,   10],\n",
              "       [  10,    8,    1,    8,   22,    6,    0,   21,    8,  925]])"
            ]
          },
          "metadata": {
            "tags": []
          },
          "execution_count": 5
        }
      ]
    },
    {
      "cell_type": "markdown",
      "metadata": {
        "id": "vIuElRG5eQ8V"
      },
      "source": [
        "# Prediction example\n",
        "Set image_index equal to any value between 1 and 10,000 i.e. the test dataset."
      ]
    },
    {
      "cell_type": "code",
      "metadata": {
        "id": "KkNUVlEJq4Vi",
        "outputId": "e8290315-3b0d-4d8b-8434-9ef37f385ab0",
        "colab": {
          "base_uri": "https://localhost:8080/",
          "height": 282
        }
      },
      "source": [
        "# select image index from test dataset\n",
        "image_index = 435\n",
        "\n",
        "# reshape the test image so that it fits on screen\n",
        "# make colourmap greyscale\n",
        "plt.imshow(test_images[image_index].reshape(28, 28),cmap='Greys')\n",
        "\n",
        "# make a prediction on the image using the classifier defined and trained above\n",
        "# (1,-1) means we are using a single sample\n",
        "pred = clf.predict(test_x[image_index].reshape(1,-1))[0]\n",
        "\n",
        "# print the classifier's prediction\n",
        "print(pred)"
      ],
      "execution_count": null,
      "outputs": [
        {
          "output_type": "stream",
          "text": [
            "8\n"
          ],
          "name": "stdout"
        },
        {
          "output_type": "display_data",
          "data": {
            "image/png": "[encoded data removed]",
            "text/plain": [
              "<Figure size 432x288 with 1 Axes>"
            ]
          },
          "metadata": {
            "tags": [],
            "needs_background": "light"
          }
        }
      ]
    }
  ]
}
