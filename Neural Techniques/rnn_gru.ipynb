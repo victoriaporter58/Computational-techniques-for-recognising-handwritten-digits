{
  "nbformat": 4,
  "nbformat_minor": 0,
  "metadata": {
    "colab": {
      "name": "rnn_gru.ipynb",
      "provenance": [],
      "collapsed_sections": [],
      "include_colab_link": true
    },
    "kernelspec": {
      "name": "python3",
      "display_name": "Python 3"
    },
    "accelerator": "GPU"
  },
  "cells": [
    {
      "cell_type": "markdown",
      "metadata": {
        "id": "view-in-github",
        "colab_type": "text"
      },
      "source": [
        "<a href=\"https://colab.research.google.com/github/victoriaporter58/Computational-techniques-for-recognising-handwritten-digits/blob/master/rnn_gru.ipynb\" target=\"_parent\"><img src=\"https://colab.research.google.com/assets/colab-badge.svg\" alt=\"Open In Colab\"/></a>"
      ]
    },
    {
      "cell_type": "code",
      "metadata": {
        "id": "SvmIUwLPclS4"
      },
      "source": [
        "import tensorflow as tf\n",
        "from tensorflow.keras import layers\n",
        "from tensorflow.keras.models import Sequential"
      ],
      "execution_count": 1,
      "outputs": []
    },
    {
      "cell_type": "code",
      "metadata": {
        "id": "3Slo6UT_kknU"
      },
      "source": [
        "pip freeze > requirements.txt"
      ],
      "execution_count": null,
      "outputs": []
    },
    {
      "cell_type": "code",
      "metadata": {
        "id": "deKTZk22knUl"
      },
      "source": [
        "cat requirements.txt"
      ],
      "execution_count": null,
      "outputs": []
    },
    {
      "cell_type": "code",
      "metadata": {
        "id": "oBRC25a7I7nx",
        "outputId": "36fe151b-61e6-4872-9262-e4d4bdc910a5",
        "colab": {
          "base_uri": "https://localhost:8080/"
        }
      },
      "source": [
        "mnist = tf.keras.datasets.mnist\n",
        "\n",
        "(x_train, y_train), (x_test, y_test) = mnist.load_data()\n",
        "x_train = x_train / 255.0\n",
        "x_test = x_test / 255.0\n",
        "\n",
        "\n",
        "model = Sequential()\n",
        " \n",
        "model.add(layers.GRU(128))\n",
        "model.add(layers.Dropout(0.2))\n",
        "\n",
        "model.add(layers.Dense(64, activation='relu'))\n",
        "model.add(layers.Dense(10, activation='softmax'))"
      ],
      "execution_count": 2,
      "outputs": [
        {
          "output_type": "stream",
          "text": [
            "Downloading data from https://storage.googleapis.com/tensorflow/tf-keras-datasets/mnist.npz\n",
            "11493376/11490434 [==============================] - 0s 0us/step\n"
          ],
          "name": "stdout"
        }
      ]
    },
    {
      "cell_type": "code",
      "metadata": {
        "id": "lO05PEfxmZd2",
        "outputId": "43db877e-ec6d-4201-fc70-485dded31585",
        "colab": {
          "base_uri": "https://localhost:8080/"
        }
      },
      "source": [
        "opt = tf.keras.optimizers.Adam(lr=1e-3, decay=1e-5)\n",
        "model.compile(loss='sparse_categorical_crossentropy', optimizer=opt, metrics=['accuracy'])\n",
        "model.fit(x_train, y_train, epochs=3, validation_data=(x_test, y_test))\n",
        "\n",
        "results = model.evaluate(x_test, y_test, batch_size=128)\n",
        "print(\"test loss, test accuracy:\", results)"
      ],
      "execution_count": 3,
      "outputs": [
        {
          "output_type": "stream",
          "text": [
            "Epoch 1/3\n",
            "1875/1875 [==============================] - 37s 20ms/step - loss: 0.3913 - accuracy: 0.8719 - val_loss: 0.1264 - val_accuracy: 0.9621\n",
            "Epoch 2/3\n",
            "1875/1875 [==============================] - 37s 20ms/step - loss: 0.1095 - accuracy: 0.9662 - val_loss: 0.1122 - val_accuracy: 0.9650\n",
            "Epoch 3/3\n",
            "1875/1875 [==============================] - 37s 20ms/step - loss: 0.0750 - accuracy: 0.9776 - val_loss: 0.0654 - val_accuracy: 0.9807\n",
            "79/79 [==============================] - 0s 6ms/step - loss: 0.0654 - accuracy: 0.9807\n",
            "test loss, test accuracy: [0.06536822766065598, 0.9807000160217285]\n"
          ],
          "name": "stdout"
        }
      ]
    }
  ]
}
