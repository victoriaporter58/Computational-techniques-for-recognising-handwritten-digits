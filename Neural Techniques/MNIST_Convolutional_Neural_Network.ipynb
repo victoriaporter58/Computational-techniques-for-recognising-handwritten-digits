{
  "nbformat": 4,
  "nbformat_minor": 0,
  "metadata": {
    "colab": {
      "name": "MNIST_Convolutional_Neural_Network.ipynb",
      "provenance": [],
      "include_colab_link": true
    },
    "kernelspec": {
      "name": "python3",
      "display_name": "Python 3"
    },
    "accelerator": "GPU"
  },
  "cells": [
    {
      "cell_type": "markdown",
      "metadata": {
        "id": "view-in-github",
        "colab_type": "text"
      },
      "source": [
        "<a href=\"https://colab.research.google.com/github/victoriaporter58/Computational-techniques-for-recognising-handwritten-digits/blob/master/MNIST_Convolutional_Neural_Network.ipynb\" target=\"_parent\"><img src=\"https://colab.research.google.com/assets/colab-badge.svg\" alt=\"Open In Colab\"/></a>"
      ]
    },
    {
      "cell_type": "markdown",
      "metadata": {
        "id": "pxOhfbZa4saO"
      },
      "source": [
        "#**MNIST Convolutional Neural Network Implementation**"
      ]
    },
    {
      "cell_type": "code",
      "metadata": {
        "id": "YhCApePRjJfI",
        "outputId": "da7fb03a-dc10-4df3-8f41-a78b737c6e1a",
        "colab": {
          "base_uri": "https://localhost:8080/",
          "height": 34
        }
      },
      "source": [
        "import tensorflow as tf\n",
        "import matplotlib.pyplot as plt\n",
        "# Importing the required Keras modules containing model and layers\n",
        "from keras.models import Sequential\n",
        "from keras.layers import Dense, Conv2D, Dropout, Flatten, MaxPooling2D"
      ],
      "execution_count": null,
      "outputs": [
        {
          "output_type": "stream",
          "text": [
            "Using TensorFlow backend.\n"
          ],
          "name": "stderr"
        }
      ]
    },
    {
      "cell_type": "code",
      "metadata": {
        "id": "nqdGFvHLjaGk"
      },
      "source": [
        "pip freeze > requirements.txt"
      ],
      "execution_count": null,
      "outputs": []
    },
    {
      "cell_type": "code",
      "metadata": {
        "id": "rfSetVrVjeOE"
      },
      "source": [
        "cat requirements.txt"
      ],
      "execution_count": null,
      "outputs": []
    },
    {
      "cell_type": "markdown",
      "metadata": {
        "id": "CoheNkBS439Q"
      },
      "source": [
        "Import tensorflow and download the MNIST dataset using the Keras API."
      ]
    },
    {
      "cell_type": "code",
      "metadata": {
        "id": "OKgWxAcMDnPj",
        "outputId": "9f4db671-4b01-424b-c22e-abe155bf695e",
        "colab": {
          "base_uri": "https://localhost:8080/",
          "height": 51
        }
      },
      "source": [
        "\n",
        "(rgb_train, label_train), (rgb_test, label_test) = tf.keras.datasets.mnist.load_data()"
      ],
      "execution_count": null,
      "outputs": [
        {
          "output_type": "stream",
          "text": [
            "Downloading data from https://storage.googleapis.com/tensorflow/tf-keras-datasets/mnist.npz\n",
            "11493376/11490434 [==============================] - 0s 0us/step\n"
          ],
          "name": "stdout"
        }
      ]
    },
    {
      "cell_type": "code",
      "metadata": {
        "id": "J5HSVQsmDyEl",
        "outputId": "0bfcd659-8134-4335-fafe-028e3b830f0f",
        "colab": {
          "base_uri": "https://localhost:8080/",
          "height": 299
        }
      },
      "source": [
        "\n",
        "%matplotlib inline\n",
        "image_index = 7777\n",
        "print(label_train[image_index])\n",
        "plt.imshow(rgb_train[image_index], cmap='Greys')"
      ],
      "execution_count": null,
      "outputs": [
        {
          "output_type": "stream",
          "text": [
            "8\n"
          ],
          "name": "stdout"
        },
        {
          "output_type": "execute_result",
          "data": {
            "text/plain": [
              "<matplotlib.image.AxesImage at 0x7f9b1f673c50>"
            ]
          },
          "metadata": {
            "tags": []
          },
          "execution_count": 2
        },
        {
          "output_type": "display_data",
          "data": {
            "image/png": "[encoded data removed]",
            "text/plain": [
              "<Figure size 432x288 with 1 Axes>"
            ]
          },
          "metadata": {
            "tags": [],
            "needs_background": "light"
          }
        }
      ]
    },
    {
      "cell_type": "code",
      "metadata": {
        "id": "jA_dbP2-D4xY",
        "outputId": "8ea19511-6fd0-4138-f093-4273620c3002",
        "colab": {
          "base_uri": "https://localhost:8080/",
          "height": 34
        }
      },
      "source": [
        "rgb_train.shape"
      ],
      "execution_count": null,
      "outputs": [
        {
          "output_type": "execute_result",
          "data": {
            "text/plain": [
              "(60000, 28, 28)"
            ]
          },
          "metadata": {
            "tags": []
          },
          "execution_count": 3
        }
      ]
    },
    {
      "cell_type": "code",
      "metadata": {
        "id": "TNswMuuxEJXE",
        "outputId": "551cfb5f-7d6e-4ea7-93e7-4125f933bea8",
        "colab": {
          "base_uri": "https://localhost:8080/",
          "height": 68
        }
      },
      "source": [
        "# Reshaping the array to 4-dims so that it can work with the Keras API\n",
        "rgb_train = rgb_train.reshape(rgb_train.shape[0], 28, 28, 1)\n",
        "rgb_test = rgb_test.reshape(rgb_test.shape[0], 28, 28, 1)\n",
        "input_shape = (28, 28, 1)\n",
        "# Making sure that the values are float so that we can get decimal points after division\n",
        "rgb_train = rgb_train.astype('float32')\n",
        "rgb_test = rgb_test.astype('float32')\n",
        "# Normalizing the RGB codes by dividing it to the max RGB value.\n",
        "rgb_train /= 255\n",
        "rgb_test /= 255\n",
        "print('x_train shape:', rgb_train.shape)\n",
        "print('Number of images in x_train', rgb_train.shape[0])\n",
        "print('Number of images in x_test', rgb_test.shape[0])"
      ],
      "execution_count": null,
      "outputs": [
        {
          "output_type": "stream",
          "text": [
            "x_train shape: (60000, 28, 28, 1)\n",
            "Number of images in x_train 60000\n",
            "Number of images in x_test 10000\n"
          ],
          "name": "stdout"
        }
      ]
    },
    {
      "cell_type": "code",
      "metadata": {
        "id": "9oDyVpOsEPmA",
        "outputId": "ce4a1b1e-38de-4480-f524-d79432c76d91",
        "colab": {
          "base_uri": "https://localhost:8080/",
          "height": 34
        }
      },
      "source": [
        "\n",
        "# Creating a Sequential Model and adding the layers\n",
        "model = Sequential()\n",
        "model.add(Conv2D(28, kernel_size=(3,3), input_shape=input_shape))\n",
        "model.add(MaxPooling2D(pool_size=(2, 2)))\n",
        "model.add(Flatten())\n",
        "model.add(Dense(128, activation=tf.nn.relu))\n",
        "model.add(Dropout(0.2))\n",
        "model.add(Dense(10,activation=tf.nn.softmax))"
      ],
      "execution_count": null,
      "outputs": [
        {
          "output_type": "stream",
          "text": [
            "Using TensorFlow backend.\n"
          ],
          "name": "stderr"
        }
      ]
    },
    {
      "cell_type": "markdown",
      "metadata": {
        "id": "u3RsPorCKq57"
      },
      "source": [
        "#Train"
      ]
    },
    {
      "cell_type": "code",
      "metadata": {
        "id": "2nONVAUvEfC1",
        "outputId": "d19193d3-3df8-4f30-b2c7-65e80ec94799",
        "colab": {
          "base_uri": "https://localhost:8080/",
          "height": 1000
        }
      },
      "source": [
        "model.compile(optimizer='adam', \n",
        "              loss='sparse_categorical_crossentropy', \n",
        "              metrics=['accuracy'])\n",
        "model.fit(x=rgb_train,y=label_train, epochs=50)"
      ],
      "execution_count": null,
      "outputs": [
        {
          "output_type": "stream",
          "text": [
            "Epoch 1/60\n",
            "60000/60000 [==============================] - 13s 221us/step - loss: 0.1997 - accuracy: 0.9399\n",
            "Epoch 2/60\n",
            "60000/60000 [==============================] - 7s 114us/step - loss: 0.0819 - accuracy: 0.9752\n",
            "Epoch 3/60\n",
            "60000/60000 [==============================] - 7s 114us/step - loss: 0.0590 - accuracy: 0.9818\n",
            "Epoch 4/60\n",
            "60000/60000 [==============================] - 7s 112us/step - loss: 0.0461 - accuracy: 0.9855\n",
            "Epoch 5/60\n",
            "60000/60000 [==============================] - 7s 113us/step - loss: 0.0353 - accuracy: 0.9888\n",
            "Epoch 6/60\n",
            "60000/60000 [==============================] - 7s 113us/step - loss: 0.0303 - accuracy: 0.9898\n",
            "Epoch 7/60\n",
            "60000/60000 [==============================] - 7s 112us/step - loss: 0.0268 - accuracy: 0.9908\n",
            "Epoch 8/60\n",
            "60000/60000 [==============================] - 7s 112us/step - loss: 0.0223 - accuracy: 0.9923\n",
            "Epoch 9/60\n",
            "60000/60000 [==============================] - 7s 116us/step - loss: 0.0199 - accuracy: 0.9932\n",
            "Epoch 10/60\n",
            "60000/60000 [==============================] - 7s 120us/step - loss: 0.0188 - accuracy: 0.9937\n",
            "Epoch 11/60\n",
            "60000/60000 [==============================] - 7s 112us/step - loss: 0.0167 - accuracy: 0.9942\n",
            "Epoch 12/60\n",
            "60000/60000 [==============================] - 7s 113us/step - loss: 0.0147 - accuracy: 0.9950\n",
            "Epoch 13/60\n",
            "60000/60000 [==============================] - 7s 112us/step - loss: 0.0163 - accuracy: 0.9945\n",
            "Epoch 14/60\n",
            "60000/60000 [==============================] - 7s 114us/step - loss: 0.0141 - accuracy: 0.9954\n",
            "Epoch 15/60\n",
            "60000/60000 [==============================] - 7s 114us/step - loss: 0.0133 - accuracy: 0.9954\n",
            "Epoch 16/60\n",
            "60000/60000 [==============================] - 7s 113us/step - loss: 0.0121 - accuracy: 0.9959\n",
            "Epoch 17/60\n",
            "60000/60000 [==============================] - 7s 111us/step - loss: 0.0129 - accuracy: 0.9958\n",
            "Epoch 18/60\n",
            "60000/60000 [==============================] - 7s 112us/step - loss: 0.0108 - accuracy: 0.9962\n",
            "Epoch 19/60\n",
            "60000/60000 [==============================] - 7s 113us/step - loss: 0.0124 - accuracy: 0.9959\n",
            "Epoch 20/60\n",
            "60000/60000 [==============================] - 7s 113us/step - loss: 0.0116 - accuracy: 0.9959\n",
            "Epoch 21/60\n",
            "60000/60000 [==============================] - 7s 112us/step - loss: 0.0136 - accuracy: 0.9955\n",
            "Epoch 22/60\n",
            "60000/60000 [==============================] - 7s 112us/step - loss: 0.0095 - accuracy: 0.9969\n",
            "Epoch 23/60\n",
            "60000/60000 [==============================] - 7s 111us/step - loss: 0.0101 - accuracy: 0.9969\n",
            "Epoch 24/60\n",
            "60000/60000 [==============================] - 7s 112us/step - loss: 0.0107 - accuracy: 0.9963\n",
            "Epoch 25/60\n",
            "60000/60000 [==============================] - 7s 112us/step - loss: 0.0103 - accuracy: 0.9967\n",
            "Epoch 26/60\n",
            "60000/60000 [==============================] - 7s 112us/step - loss: 0.0101 - accuracy: 0.9969\n",
            "Epoch 27/60\n",
            "60000/60000 [==============================] - 7s 112us/step - loss: 0.0098 - accuracy: 0.9970\n",
            "Epoch 28/60\n",
            "60000/60000 [==============================] - 7s 111us/step - loss: 0.0098 - accuracy: 0.9969\n",
            "Epoch 29/60\n",
            "60000/60000 [==============================] - 7s 111us/step - loss: 0.0101 - accuracy: 0.9969\n",
            "Epoch 30/60\n",
            "60000/60000 [==============================] - 7s 112us/step - loss: 0.0103 - accuracy: 0.9970\n",
            "Epoch 31/60\n",
            "60000/60000 [==============================] - 7s 111us/step - loss: 0.0084 - accuracy: 0.9971\n",
            "Epoch 32/60\n",
            "60000/60000 [==============================] - 7s 112us/step - loss: 0.0084 - accuracy: 0.9974\n",
            "Epoch 33/60\n",
            "60000/60000 [==============================] - 7s 112us/step - loss: 0.0097 - accuracy: 0.9972\n",
            "Epoch 34/60\n",
            "60000/60000 [==============================] - 7s 113us/step - loss: 0.0101 - accuracy: 0.9971\n",
            "Epoch 35/60\n",
            "60000/60000 [==============================] - 7s 111us/step - loss: 0.0093 - accuracy: 0.9970\n",
            "Epoch 36/60\n",
            "60000/60000 [==============================] - 7s 111us/step - loss: 0.0086 - accuracy: 0.9976\n",
            "Epoch 37/60\n",
            "60000/60000 [==============================] - 7s 111us/step - loss: 0.0082 - accuracy: 0.9973\n",
            "Epoch 38/60\n",
            "60000/60000 [==============================] - 7s 112us/step - loss: 0.0091 - accuracy: 0.9973\n",
            "Epoch 39/60\n",
            "60000/60000 [==============================] - 7s 111us/step - loss: 0.0084 - accuracy: 0.9974\n",
            "Epoch 40/60\n",
            "60000/60000 [==============================] - 7s 111us/step - loss: 0.0080 - accuracy: 0.9977\n",
            "Epoch 41/60\n",
            "60000/60000 [==============================] - 7s 111us/step - loss: 0.0083 - accuracy: 0.9977\n",
            "Epoch 42/60\n",
            "60000/60000 [==============================] - 7s 111us/step - loss: 0.0086 - accuracy: 0.9972\n",
            "Epoch 43/60\n",
            "60000/60000 [==============================] - 7s 111us/step - loss: 0.0092 - accuracy: 0.9973\n",
            "Epoch 44/60\n",
            "60000/60000 [==============================] - 7s 110us/step - loss: 0.0077 - accuracy: 0.9975\n",
            "Epoch 45/60\n",
            "60000/60000 [==============================] - 7s 111us/step - loss: 0.0071 - accuracy: 0.9979\n",
            "Epoch 46/60\n",
            "60000/60000 [==============================] - 7s 113us/step - loss: 0.0066 - accuracy: 0.9980\n",
            "Epoch 47/60\n",
            "60000/60000 [==============================] - 7s 114us/step - loss: 0.0101 - accuracy: 0.9973\n",
            "Epoch 48/60\n",
            "60000/60000 [==============================] - 7s 112us/step - loss: 0.0072 - accuracy: 0.9978\n",
            "Epoch 49/60\n",
            "60000/60000 [==============================] - 7s 111us/step - loss: 0.0083 - accuracy: 0.9978\n",
            "Epoch 50/60\n",
            "60000/60000 [==============================] - 7s 113us/step - loss: 0.0081 - accuracy: 0.9977\n",
            "Epoch 51/60\n",
            "60000/60000 [==============================] - 7s 113us/step - loss: 0.0083 - accuracy: 0.9977\n",
            "Epoch 52/60\n",
            "60000/60000 [==============================] - 7s 112us/step - loss: 0.0083 - accuracy: 0.9978\n",
            "Epoch 53/60\n",
            "60000/60000 [==============================] - 7s 112us/step - loss: 0.0076 - accuracy: 0.9981\n",
            "Epoch 54/60\n",
            "60000/60000 [==============================] - 7s 113us/step - loss: 0.0096 - accuracy: 0.9976\n",
            "Epoch 55/60\n",
            "60000/60000 [==============================] - 7s 117us/step - loss: 0.0089 - accuracy: 0.9979\n",
            "Epoch 56/60\n",
            "60000/60000 [==============================] - 7s 120us/step - loss: 0.0065 - accuracy: 0.9983\n",
            "Epoch 57/60\n",
            "60000/60000 [==============================] - 7s 115us/step - loss: 0.0071 - accuracy: 0.9980\n",
            "Epoch 58/60\n",
            "60000/60000 [==============================] - 7s 114us/step - loss: 0.0079 - accuracy: 0.9980\n",
            "Epoch 59/60\n",
            "60000/60000 [==============================] - 7s 113us/step - loss: 0.0087 - accuracy: 0.9977\n",
            "Epoch 60/60\n",
            "60000/60000 [==============================] - 7s 112us/step - loss: 0.0068 - accuracy: 0.9978\n"
          ],
          "name": "stdout"
        },
        {
          "output_type": "execute_result",
          "data": {
            "text/plain": [
              "<keras.callbacks.callbacks.History at 0x7f9b104f7ef0>"
            ]
          },
          "metadata": {
            "tags": []
          },
          "execution_count": 6
        }
      ]
    },
    {
      "cell_type": "markdown",
      "metadata": {
        "id": "I2ugSlQ0KhJl"
      },
      "source": [
        "#Evaluate"
      ]
    },
    {
      "cell_type": "code",
      "metadata": {
        "id": "BiKa612XMCZ1",
        "outputId": "4cf538e8-20b4-4186-d685-28052de58350",
        "colab": {
          "base_uri": "https://localhost:8080/",
          "height": 51
        }
      },
      "source": [
        "model.evaluate(rgb_test, label_test)"
      ],
      "execution_count": null,
      "outputs": [
        {
          "output_type": "stream",
          "text": [
            "10000/10000 [==============================] - 1s 58us/step\n"
          ],
          "name": "stdout"
        },
        {
          "output_type": "execute_result",
          "data": {
            "text/plain": [
              "[0.1624621360273489, 0.9842000007629395]"
            ]
          },
          "metadata": {
            "tags": []
          },
          "execution_count": 7
        }
      ]
    },
    {
      "cell_type": "markdown",
      "metadata": {
        "id": "IBysAuAzGHU2"
      },
      "source": [
        "#Predict\n",
        "Test the models performance by making 'image_index' equal to a number between 0 and 9999 i.e. the test dataset."
      ]
    },
    {
      "cell_type": "code",
      "metadata": {
        "id": "lYsVQh2rMVKU",
        "outputId": "af9c4ac1-5c82-4ed4-cb1f-6c1fa30076b1",
        "colab": {
          "base_uri": "https://localhost:8080/",
          "height": 282
        }
      },
      "source": [
        "image_index = 0\n",
        "plt.imshow(rgb_test[image_index].reshape(28, 28),cmap='Greys')\n",
        "pred = model.predict(rgb_test[image_index].reshape(1, 28, 28, 1))\n",
        "print(pred.argmax())"
      ],
      "execution_count": null,
      "outputs": [
        {
          "output_type": "stream",
          "text": [
            "7\n"
          ],
          "name": "stdout"
        },
        {
          "output_type": "display_data",
          "data": {
            "image/png": "[encoded data removed]",
            "text/plain": [
              "<Figure size 432x288 with 1 Axes>"
            ]
          },
          "metadata": {
            "tags": [],
            "needs_background": "light"
          }
        }
      ]
    }
  ]
}
