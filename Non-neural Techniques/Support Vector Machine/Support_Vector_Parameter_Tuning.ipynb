{
  "nbformat": 4,
  "nbformat_minor": 0,
  "metadata": {
    "colab": {
      "name": "Support_Vector_Parameter_Tuning.ipynb",
      "provenance": [],
      "collapsed_sections": [],
      "include_colab_link": true
    },
    "kernelspec": {
      "name": "python3",
      "display_name": "Python 3"
    }
  },
  "cells": [
    {
      "cell_type": "markdown",
      "metadata": {
        "id": "view-in-github",
        "colab_type": "text"
      },
      "source": [
        "<a href=\"https://colab.research.google.com/github/victoriaporter58/Computational-techniques-for-recognising-handwritten-digits/blob/master/Support_Vector_Parameter_Tuning.ipynb\" target=\"_parent\"><img src=\"https://colab.research.google.com/assets/colab-badge.svg\" alt=\"Open In Colab\"/></a>"
      ]
    },
    {
      "cell_type": "markdown",
      "metadata": {
        "id": "6wtLAEYVeoJU"
      },
      "source": [
        "#Support Vector Parameter Tuning\n",
        "\n",
        "This file finds the optimal parameters for both the LinearSVC method and SVC method. See 'Optimised_Support_Vector_Classifier.ipynb' for the final model with optimised parameters.\n",
        "\n",
        "Support Vector Classifier tries to find the best hyperplane to separate the different classes by maximizing the distance between the sample points and the hyperplane.The objective here is to find the parameter set-up that provides the most time efficient and accuracte analysis of the MNIST dataset. To do this, the following parameters are being considered:\n",
        "\n",
        "* ***kernel***: A function which takes two data points as inputs and returns a similarity score. This similarity can be interpreted as a metric of closeness. The nearer the data points are, the higher the similarity.\n",
        "* ***c***: Controls the trade off between having a smooth decision boundary and classifying the training points correctly. A high value for C tells the algorithm that you care more about classifying all the training points correctly than leaving wiggle room for future data.\n",
        "* ***gamma***: The kernel coefficient for ‘rbf’, ‘poly’ and ‘sigmoid’. A high gamma value will try to exactly fit the training dataset.\n",
        "\n",
        "**Execution Instructions**:\n",
        "Note that this notebook will take a significant amount of time to execute fully. See 'Optimised_SVM_Classifier.ipynb' for the final optimised implementation.\n",
        "\n",
        "* Scroll to 'Downgrade Tensorflow' and run that cell only.\n",
        "* Restart the runtime: Runtime > Restart runtime.\n",
        "* Finally, execute the whole script: Runtime > Run all.\n",
        "* Results and visualisations will appear below the respective cells.\n",
        "\n",
        "**References**: \n",
        "* Code snippet: https://www.codingame.com/playgrounds/37409/handwritten-digit-recognition-using-scikit-learn\n",
        "* SVC: https://scikit-learn.org/stable/modules/generated/sklearn.svm.SVC.html\n",
        "* LinearSVC: https://scikit-learn.org/stable/modules/generated/sklearn.svm.LinearSVC.html#sklearn.svm.LinearSVC\n",
        "\n",
        "**Created by**: Victoria Porter"
      ]
    },
    {
      "cell_type": "markdown",
      "metadata": {
        "id": "ACMhc2ktfmni"
      },
      "source": [
        "##Downgrade tensorflow\n",
        "We need to downgrade tensorflow so that we can use it to import the MNIST dataset. Restart the runtime after executing this cell."
      ]
    },
    {
      "cell_type": "code",
      "metadata": {
        "id": "2Ha7EsyyEaT3"
      },
      "source": [
        "pip install tensorflow==1.14"
      ],
      "execution_count": null,
      "outputs": []
    },
    {
      "cell_type": "markdown",
      "metadata": {
        "id": "9mjRcfjwf8db"
      },
      "source": [
        "##Import and read the MNIST dataset"
      ]
    },
    {
      "cell_type": "code",
      "metadata": {
        "id": "s6m6Mg6aEefE"
      },
      "source": [
        "import matplotlib.pyplot as plt\n",
        "import numpy as np\n",
        "from sklearn.svm import SVC\n",
        "from sklearn.svm import LinearSVC\n",
        "from sklearn.metrics import accuracy_score\n",
        "from sklearn.metrics import classification_report\n",
        "from sklearn.metrics import confusion_matrix\n",
        "\n",
        "# import and read the MNIST dataset\n",
        "from tensorflow.examples.tutorials.mnist import input_data\n",
        "mnist = input_data.read_data_sets('/home/server/datasets/MNIST_data/')\n",
        "\n",
        "# set-up dataset as numpy array\n",
        "# seperate the dataset into training (60,000) images & labels and testing (10,000) images & labels\n",
        "train_images = np.asarray(mnist.train.images)\n",
        "train_labels = np.asarray(mnist.train.labels)\n",
        "test_images = np.asarray(mnist.test.images)\n",
        "test_labels = np.asarray(mnist.test.labels)\n",
        "\n",
        "# record the expected results for comparison with predictions\n",
        "expected = test_labels.tolist()"
      ],
      "execution_count": null,
      "outputs": []
    },
    {
      "cell_type": "markdown",
      "metadata": {
        "id": "C3NbNsx99p6a"
      },
      "source": [
        "##Find the optimal C value for LinearSVC\n",
        "The linear kernel in LinearSVC is implemented using liblinear.\n",
        "\n",
        "* **Test 1**: C=1.0 (default)\n",
        "* **Test 2**: C=0.1\n",
        "* **Test 3**: C=0.01\n",
        "* **Test 4**: C=0.001"
      ]
    },
    {
      "cell_type": "code",
      "metadata": {
        "id": "ex6oeeVlJDhf"
      },
      "source": [
        "# set up classifier\n",
        "\n",
        "# Test 1 - 2nd fastest\n",
        "clf = LinearSVC(C=1.0)\n",
        "# accuracy = 0.9178\n",
        "\n",
        "# Test 2 - 1st fastest\n",
        "#clf = LinearSVC(C=0.1)\n",
        "# accuracy = 0.9178\n",
        "\n",
        "# Test 3 - 3rd fastest\n",
        "#clf = LinearSVC(C=0.01)\n",
        "# accuracy = 0.9122\n",
        "\n",
        "# Test 4 - 4th fastest\n",
        "#clf = LinearSVC(C=0.001)\n",
        "# accuracy = 0.9122"
      ],
      "execution_count": null,
      "outputs": []
    },
    {
      "cell_type": "code",
      "metadata": {
        "id": "dl2kw3eOWphG"
      },
      "source": [
        "# train using set up defined above\n",
        "results = clf.fit(train_images, train_labels)"
      ],
      "execution_count": null,
      "outputs": []
    },
    {
      "cell_type": "code",
      "metadata": {
        "id": "wkxqjhU8W6Rz"
      },
      "source": [
        "# make predictions\n",
        "predicted = clf.predict(test_images)"
      ],
      "execution_count": null,
      "outputs": []
    },
    {
      "cell_type": "code",
      "metadata": {
        "id": "MIR8cHxxXz1K"
      },
      "source": [
        "# print the accuracy\n",
        "print(\"Accuracy: \", accuracy_score(expected, predicted), \"\\n\")"
      ],
      "execution_count": null,
      "outputs": []
    },
    {
      "cell_type": "markdown",
      "metadata": {
        "id": "TJRKJgdM7VGB"
      },
      "source": [
        "##Find the optimal C value for SVC with linear kernel\n",
        "\n",
        "The linear kernel in SVC is implemented using libsvm.\n",
        "\n",
        "* **Test 1**: C=1.0 (default)\n",
        "* **Test 2**: C=0.1\n",
        "* **Test 3**: C=0.01\n",
        "* **Test 4**: C=0.001"
      ]
    },
    {
      "cell_type": "code",
      "metadata": {
        "id": "YQhcnW7q7f7Q"
      },
      "source": [
        "# set up classifier\n",
        "\n",
        "# Test 1 - 2nd fastest\n",
        "#clf = SVC(kernel='linear', C=1.0)\n",
        "# accuracy = 0.9393\n",
        "\n",
        "# Test 2 - 1st fastest\n",
        "clf = SVC(kernel='linear', C=0.1)\n",
        "# accuracy = 0.9453\n",
        "\n",
        "# Test 3 - 3rd fastest\n",
        "#clf = SVC(kernel='linear', C=0.01)\n",
        "# accuracy = 0.9435\n",
        "\n",
        "# Test 4 - 4th fastest\n",
        "#clf = SVC(kernel='linear', C=0.001)\n",
        "# accuracy = 0.9296"
      ],
      "execution_count": null,
      "outputs": []
    },
    {
      "cell_type": "code",
      "metadata": {
        "id": "NtTKJgkO7f7p"
      },
      "source": [
        "# train using set up defined above\n",
        "results = clf.fit(train_images, train_labels)"
      ],
      "execution_count": null,
      "outputs": []
    },
    {
      "cell_type": "code",
      "metadata": {
        "id": "lhtvE8A27f72"
      },
      "source": [
        "# make predictions\n",
        "predicted = clf.predict(test_images)"
      ],
      "execution_count": null,
      "outputs": []
    },
    {
      "cell_type": "code",
      "metadata": {
        "id": "Q9bgDMvt7f8E"
      },
      "source": [
        "# print the accuracy\n",
        "print(\"Accuracy: \", accuracy_score(expected, predicted), \"\\n\")"
      ],
      "execution_count": null,
      "outputs": []
    },
    {
      "cell_type": "markdown",
      "metadata": {
        "id": "Xr6kt0Q3Gd5v"
      },
      "source": [
        "##Finding the optimal gamma value for SVC with poly kernel\n",
        "\n",
        "* **Test 1**: gamma = 1\n",
        "* **Test 2**: gamma = 10\n",
        "* **Test 3**: gamma = 100"
      ]
    },
    {
      "cell_type": "code",
      "metadata": {
        "id": "j4udX9yQGpJG"
      },
      "source": [
        "# Test 1 - 3rd fastest\n",
        "#clf = SVC(kernel='poly', C=0.001, gamma=1)\n",
        "# accuracy = 0.9788\n",
        "\n",
        "#Test 2 - 1st fastest\n",
        "clf = SVC(kernel='poly', C=0.001, gamma=10)\n",
        "# accuracy = 0.9788\n",
        "\n",
        "#Test 3 - 2nd fastest\n",
        "#clf = SVC(kernel='poly', C=0.001, gamma=100)\n",
        "# accuracy = 0.9788"
      ],
      "execution_count": null,
      "outputs": []
    },
    {
      "cell_type": "code",
      "metadata": {
        "id": "H7APXaKwGxFy"
      },
      "source": [
        "# train using set up defined above\n",
        "results = clf.fit(train_images, train_labels)"
      ],
      "execution_count": null,
      "outputs": []
    },
    {
      "cell_type": "code",
      "metadata": {
        "id": "OlhZ4hmzGxGO"
      },
      "source": [
        "# make predictions\n",
        "predicted = clf.predict(test_images)"
      ],
      "execution_count": null,
      "outputs": []
    },
    {
      "cell_type": "code",
      "metadata": {
        "id": "FPv40BZ4GxGe"
      },
      "source": [
        "# print the accuracy\n",
        "print(\"Accuracy: \", accuracy_score(expected, predicted), \"\\n\")"
      ],
      "execution_count": null,
      "outputs": []
    },
    {
      "cell_type": "markdown",
      "metadata": {
        "id": "1QHKobDPHYGR"
      },
      "source": [
        "##Finding the optimal C value for SVC with poly kernel\n",
        "\n",
        "* **Test 1**: C = 1\n",
        "* **Test 2**: C = 0.1\n",
        "* **Test 3**: C = 0.01\n",
        "* **Test 4**: C = 0.001\n",
        "* **Test 5**: C = 0.0001"
      ]
    },
    {
      "cell_type": "code",
      "metadata": {
        "id": "UMywvxNwHrWq"
      },
      "source": [
        "# Test 1 - 5th fastest\n",
        "#clf = SVC(kernel='poly', C=1.0, gamma=10)\n",
        "# accuracy = 0.9788\n",
        "\n",
        "# Test 2 - 4th fastest\n",
        "#clf = SVC(kernel='poly', C=0.1, gamma=10)\n",
        "# accuracy = 0.9788\n",
        "\n",
        "# Test 3 - 3rd fastest\n",
        "#clf = SVC(kernel='poly', C=0.01, gamma=10)\n",
        "# accuracy = 0.9788\n",
        "\n",
        "# Test 4 - 1st fastest\n",
        "clf = SVC(kernel='poly', C=0.001, gamma=10)\n",
        "# accuracy = 0.9788\n",
        "\n",
        "# Test 5 - 2nd fastest\n",
        "#clf = SVC(kernel='poly', C=0.0001, gamma=10)\n",
        "# accuracy = 0.9788"
      ],
      "execution_count": null,
      "outputs": []
    },
    {
      "cell_type": "code",
      "metadata": {
        "id": "G8zn7HtAIDV3"
      },
      "source": [
        "# train using set up defined above\n",
        "results = clf.fit(train_images, train_labels)"
      ],
      "execution_count": null,
      "outputs": []
    },
    {
      "cell_type": "code",
      "metadata": {
        "id": "Y64cHHAEIDWO"
      },
      "source": [
        "# make predictions\n",
        "predicted = clf.predict(test_images)"
      ],
      "execution_count": null,
      "outputs": []
    },
    {
      "cell_type": "code",
      "metadata": {
        "id": "7EJjbsxjIDWc"
      },
      "source": [
        "# print the accuracy\n",
        "print(\"Accuracy: \", accuracy_score(expected, predicted), \"\\n\")"
      ],
      "execution_count": null,
      "outputs": []
    },
    {
      "cell_type": "markdown",
      "metadata": {
        "id": "Ywmac_3enox5"
      },
      "source": [
        "##Evaluate\n",
        "Now that we have predictions, we want to visualise them.\n",
        "* ***Accuracy***: The accuracy of our classifier.\n",
        "* ***Classification report***: This shows us how accurate our classifier is at identifying each class.\n",
        "* ***Confusion matrix***: This shows us exactly how many samples our classifier got correct/incorrect."
      ]
    },
    {
      "cell_type": "code",
      "metadata": {
        "id": "0TV0nMgQnvmo"
      },
      "source": [
        "# see how the model performed on each digit\n",
        "print(\"Accuracy: \", accuracy_score(expected, predicted), \"\\n\")\n",
        "print(\"Classification Report:\")\n",
        "print(classification_report(expected, predicted), \"\\n\")\n",
        "print(\"Confusion Matrix:\")\n",
        "print(confusion_matrix(expected, predicted))"
      ],
      "execution_count": null,
      "outputs": []
    },
    {
      "cell_type": "markdown",
      "metadata": {
        "id": "Zmmo7pnLq7Sx"
      },
      "source": [
        "##Test\n",
        "Set image_index equal to any value between 1 and 10,000 i.e. the test dataset. Use our trained classifier to make a prediction on a test image."
      ]
    },
    {
      "cell_type": "code",
      "metadata": {
        "id": "KkNUVlEJq4Vi",
        "outputId": "2255ec56-745a-43c2-ab75-380f4ba67cfc",
        "colab": {
          "base_uri": "https://localhost:8080/",
          "height": 282
        }
      },
      "source": [
        "# select image index from test dataset\n",
        "image_index = 4444\n",
        "\n",
        "# reshape the test image so that it fits on screen\n",
        "# make colourmap greyscale\n",
        "plt.imshow(test_images[image_index].reshape(28, 28),cmap='Greys')\n",
        "\n",
        "# make a prediction on the image using the classifier defined and trained above\n",
        "# (1,-1) means we are using a single sample\n",
        "pred = clf.predict(test_images[image_index].reshape(1,-1))[0]\n",
        "\n",
        "# print the classifier's prediction\n",
        "print(pred)"
      ],
      "execution_count": null,
      "outputs": [
        {
          "output_type": "stream",
          "text": [
            "9\n"
          ],
          "name": "stdout"
        },
        {
          "output_type": "display_data",
          "data": {
            "image/png": "[encoded data removed]",
            "text/plain": [
              "<Figure size 432x288 with 1 Axes>"
            ]
          },
          "metadata": {
            "tags": [],
            "needs_background": "light"
          }
        }
      ]
    }
  ]
}
