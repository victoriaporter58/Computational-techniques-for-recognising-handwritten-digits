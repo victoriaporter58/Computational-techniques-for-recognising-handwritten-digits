{
  "nbformat": 4,
  "nbformat_minor": 0,
  "metadata": {
    "colab": {
      "name": "rnn_lstm.ipynb",
      "provenance": [],
      "collapsed_sections": [],
      "include_colab_link": true
    },
    "kernelspec": {
      "name": "python3",
      "display_name": "Python 3"
    }
  },
  "cells": [
    {
      "cell_type": "markdown",
      "metadata": {
        "id": "view-in-github",
        "colab_type": "text"
      },
      "source": [
        "<a href=\"https://colab.research.google.com/github/victoriaporter58/Computational-techniques-for-recognising-handwritten-digits/blob/master/rnn_lstm.ipynb\" target=\"_parent\"><img src=\"https://colab.research.google.com/assets/colab-badge.svg\" alt=\"Open In Colab\"/></a>"
      ]
    },
    {
      "cell_type": "code",
      "metadata": {
        "id": "SvmIUwLPclS4"
      },
      "source": [
        "import tensorflow as tf\n",
        "from tensorflow.keras.layers import Dense, Dropout, LSTM\n",
        "from tensorflow.keras.models import Sequential"
      ],
      "execution_count": 1,
      "outputs": []
    },
    {
      "cell_type": "code",
      "metadata": {
        "id": "Gw5m8Ul5lEqb"
      },
      "source": [
        "pip freeze > requirements.txt"
      ],
      "execution_count": null,
      "outputs": []
    },
    {
      "cell_type": "code",
      "metadata": {
        "id": "UtOVrtqolJvX"
      },
      "source": [
        "cat requirements.txt"
      ],
      "execution_count": null,
      "outputs": []
    },
    {
      "cell_type": "code",
      "metadata": {
        "id": "oBRC25a7I7nx",
        "outputId": "d83b2bb0-b41b-46d8-f35a-cc11a55e6db7",
        "colab": {
          "base_uri": "https://localhost:8080/"
        }
      },
      "source": [
        "mnist = tf.keras.datasets.mnist\n",
        "\n",
        "(x_train, y_train), (x_test, y_test) = mnist.load_data()\n",
        "x_train = x_train / 255.0\n",
        "x_test = x_test / 255.0\n",
        "\n",
        "\n",
        "model = Sequential()\n",
        "model.add(LSTM(128, input_shape=(x_train.shape[1:]), activation='relu', return_sequences=True))\n",
        "model.add(Dropout(0.2))\n",
        "\n",
        "model.add(LSTM(64, activation='relu'))\n",
        "\n",
        "model.add(Dense(32, activation='relu'))\n",
        "\n",
        "model.add(Dense(10, activation='softmax'))"
      ],
      "execution_count": 2,
      "outputs": [
        {
          "output_type": "stream",
          "text": [
            "Downloading data from https://storage.googleapis.com/tensorflow/tf-keras-datasets/mnist.npz\n",
            "11493376/11490434 [==============================] - 0s 0us/step\n"
          ],
          "name": "stdout"
        }
      ]
    },
    {
      "cell_type": "code",
      "metadata": {
        "id": "lO05PEfxmZd2",
        "outputId": "2b0b1b1f-bb1f-45fb-b4e0-a4831d1a5591",
        "colab": {
          "base_uri": "https://localhost:8080/"
        }
      },
      "source": [
        "opt = tf.keras.optimizers.Adam(lr=1e-3, decay=1e-5)\n",
        "model.compile(loss='sparse_categorical_crossentropy', optimizer=opt, metrics=['accuracy'])\n",
        "model.fit(x_train, y_train, epochs=3, validation_data=(x_test, y_test))\n",
        "\n",
        "results = model.evaluate(x_test, y_test, batch_size=128)\n",
        "print(\"test loss, test accuracy:\", results)"
      ],
      "execution_count": 3,
      "outputs": [
        {
          "output_type": "stream",
          "text": [
            "Epoch 1/3\n",
            "1875/1875 [==============================] - 82s 44ms/step - loss: 0.4815 - accuracy: 0.8391 - val_loss: 0.1446 - val_accuracy: 0.9553\n",
            "Epoch 2/3\n",
            "1875/1875 [==============================] - 81s 43ms/step - loss: 0.1206 - accuracy: 0.9642 - val_loss: 0.0846 - val_accuracy: 0.9750\n",
            "Epoch 3/3\n",
            "1875/1875 [==============================] - 81s 43ms/step - loss: 0.0806 - accuracy: 0.9760 - val_loss: 0.0565 - val_accuracy: 0.9829\n",
            "79/79 [==============================] - 3s 41ms/step - loss: 0.0565 - accuracy: 0.9829\n",
            "test loss, test accuracy: [0.05653567984700203, 0.9829000234603882]\n"
          ],
          "name": "stdout"
        }
      ]
    }
  ]
}